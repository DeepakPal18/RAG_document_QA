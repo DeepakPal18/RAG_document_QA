{
 "cells": [
  {
   "cell_type": "code",
   "execution_count": null,
   "metadata": {},
   "outputs": [],
   "source": [
    "# Testing various attributes of llamaIndex - (Test codes)"
   ]
  },
  {
   "cell_type": "code",
   "execution_count": null,
   "metadata": {},
   "outputs": [],
   "source": [
    "# # installed required lib-\n",
    "# pip install llama-index\n",
    "# pip install llama-hub\n",
    "# pip install openai\n",
    "# pip install docx2txt"
   ]
  },
  {
   "cell_type": "code",
   "execution_count": 1,
   "metadata": {},
   "outputs": [],
   "source": [
    "# openai api key in os env - \n",
    "import os\n",
    "import openai\n",
    "os.environ[\"OPENAI_API_KEY\"] = \"sk-11223344\"\n",
    "openai.api_key = \"sk-11223344\""
   ]
  },
  {
   "cell_type": "code",
   "execution_count": 2,
   "metadata": {},
   "outputs": [],
   "source": [
    "# VectorStoreIndex - used to convert text to embedding/Index\n",
    "# SimpleDirectoryReader - used for reading files from any specific dir\n",
    "\n",
    "from llama_index.core import VectorStoreIndex,SimpleDirectoryReader\n",
    "# LLM tunning - Initialize an OpenAI language model (llm) with specific configurations\n",
    "# llm = OpenAI(temprature=0,model = \"gpt-3.5-turbo\",max_tokens=300)"
   ]
  },
  {
   "cell_type": "code",
   "execution_count": 3,
   "metadata": {},
   "outputs": [
    {
     "data": {
      "text/plain": [
       "[Document(id_='bf959335-5c30-422c-8a1c-2c860d03e01d', embedding=None, metadata={'file_name': 'genai.docx', 'file_path': 'E:\\\\GenAI projects\\\\rag_assignment\\\\docs\\\\genai.docx', 'file_type': 'application/vnd.openxmlformats-officedocument.wordprocessingml.document', 'file_size': 15873, 'creation_date': '2024-04-23', 'last_modified_date': '2024-05-16'}, excluded_embed_metadata_keys=['file_name', 'file_type', 'file_size', 'creation_date', 'last_modified_date', 'last_accessed_date'], excluded_llm_metadata_keys=['file_name', 'file_type', 'file_size', 'creation_date', 'last_modified_date', 'last_accessed_date'], relationships={}, text=\"Title: Exploring the Evolution of AI: From Generative Models to Large Language Models and Retrieval-Augmented Generation\\n\\n\\n\\nIn the rapidly advancing landscape of artificial intelligence (AI), several breakthroughs have reshaped our understanding of what machines can achieve. Among these advancements, three notable paradigms stand out: Generative AI, Large Language Models (LLMs), and Retrieval-Augmented Generation (RAG). Each represents a unique approach to harnessing the power of machine learning to generate text and solve complex tasks. In this article, we delve into the intricacies of these paradigms, exploring their capabilities, applications, and implications for the future of AI.\\n\\n\\n\\n**Generative AI: Fostering Creativity in Machines**\\n\\n\\n\\nGenerative AI refers to a class of algorithms designed to generate new content, such as text, images, or music, that mimics human creativity. At the heart of generative models lies the ability to learn and replicate patterns from vast datasets, enabling machines to produce novel outputs. One of the most prominent examples of generative AI is the Generative Adversarial Network (GAN), introduced by Ian Goodfellow and his colleagues in 2014.\\n\\n\\n\\nGANs consist of two neural networks: a generator and a discriminator. The generator synthesizes data instances, while the discriminator evaluates their authenticity. Through an adversarial training process, both networks strive to outperform each other, ultimately leading to the generation of realistic content indistinguishable from human-created data. Applications of generative AI span diverse domains, including art generation, text synthesis, and data augmentation, revolutionizing industries such as entertainment, design, and advertising.\\n\\n\\n\\n**Large Language Models: Unleashing the Power of Text Understanding**\\n\\n\\n\\nLarge Language Models (LLMs) represent a significant leap in natural language processing (NLP) capabilities, driven by advances in deep learning and the availability of massive datasets. These models, often based on transformer architectures, excel at understanding and generating human-like text across various tasks, including language translation, text summarization, and question answering.\\n\\n\\n\\nThe hallmark of LLMs is their ability to learn contextual representations of words and phrases, capturing intricate semantic and syntactic relationships within language. Models like OpenAI's GPT (Generative Pre-trained Transformer) series and Google's BERT (Bidirectional Encoder Representations from Transformers) have demonstrated exceptional performance on benchmark NLP tasks, showcasing the potential of large-scale pre-training followed by fine-tuning on specific tasks.\\n\\n\\n\\nLLMs have found applications in diverse fields, from content generation and chatbots to sentiment analysis and information retrieval. Their ability to understand and generate human-like text has profound implications for human-computer interaction, content generation at scale, and automated knowledge extraction.\\n\\n\\n\\n**Retrieval-Augmented Generation: Enhancing Contextual Understanding**\\n\\n\\n\\nWhile LLMs excel at generating coherent text, they often lack the ability to incorporate external knowledge or context into their outputs. Retrieval-Augmented Generation (RAG) addresses this limitation by combining the strengths of large language models with structured knowledge retrieval mechanisms.\\n\\n\\n\\nIn RAG, a retriever module retrieves relevant information from external knowledge sources, such as databases, documents, or the web, based on the input context. This retrieved knowledge is then integrated into the generation process, enriching the output with factual accuracy and contextual relevance. By augmenting the generation process with external knowledge, RAG models can produce more informative and contextually grounded text across a wide range of tasks.\\n\\n\\n\\nApplications of RAG span from question answering and content generation to dialogue systems and personalized recommendations. By leveraging external knowledge, RAG models enhance their understanding of complex topics and provide more nuanced and accurate responses to user queries.\\n\\n\\n\\n**The Future of AI: Synergies and Ethical Considerations**\\n\\n\\n\\nAs generative AI, LLMs, and RAG continue to advance, their convergence holds promise for even more powerful AI systems capable of understanding, generating, and reasoning with human-like proficiency. By integrating generative capabilities with contextual understanding and external knowledge retrieval, future AI systems could revolutionize industries, drive innovation, and augment human creativity.\\n\\n\\n\\nHowever, with great power comes great responsibility. Ethical considerations surrounding AI, including issues of bias, privacy, and misuse, must be addressed proactively. As AI systems become increasingly autonomous and influential, ensuring transparency, accountability, and ethical use is paramount to harnessing their potential for societal benefit.\\n\\n\\n\\nIn conclusion, the evolution of AI from generative models to large language models and retrieval-augmented generation represents a transformative journey towards machines with human-like language understanding and generation capabilities. By advancing these paradigms responsibly and ethically, we pave the way for a future where AI serves as a powerful ally in solving complex challenges and enhancing human endeavors.\", start_char_idx=None, end_char_idx=None, text_template='{metadata_str}\\n\\n{content}', metadata_template='{key}: {value}', metadata_seperator='\\n'),\n",
       " Document(id_='03c00265-c532-4b51-bae8-eed4de44c443', embedding=None, metadata={'file_name': 'startup.docx', 'file_path': 'E:\\\\GenAI projects\\\\rag_assignment\\\\docs\\\\startup.docx', 'file_type': 'application/vnd.openxmlformats-officedocument.wordprocessingml.document', 'file_size': 15994, 'creation_date': '2024-04-23', 'last_modified_date': '2024-05-16'}, excluded_embed_metadata_keys=['file_name', 'file_type', 'file_size', 'creation_date', 'last_modified_date', 'last_accessed_date'], excluded_llm_metadata_keys=['file_name', 'file_type', 'file_size', 'creation_date', 'last_modified_date', 'last_accessed_date'], relationships={}, text=\"Title: The Blueprint for Building a Successful Startup: From Ideation to Execution\\n\\n\\n\\nBuilding a startup from the ground up is an exhilarating journey filled with challenges, triumphs, and countless learning opportunities. Whether you're a seasoned entrepreneur or a first-time founder, the process of turning an idea into a thriving business requires careful planning, unwavering dedication, and a willingness to adapt to changing circumstances. In this comprehensive guide, we outline the essential steps and strategies for building a successful startup, from ideation to execution.\\n\\n\\n\\n**1. Define Your Vision and Mission**\\n\\n\\n\\nEvery successful startup begins with a clear vision and a compelling mission. Define the problem you aim to solve and articulate your long-term goals and aspirations. Your vision should inspire and guide your team throughout the entrepreneurial journey, serving as a north star to navigate challenges and uncertainties.\\n\\n\\n\\n**2. Conduct Market Research**\\n\\n\\n\\nBefore diving headfirst into building your product or service, conduct thorough market research to validate your idea and understand your target audience. Identify existing competitors, analyze market trends, and gather insights into customer needs and preferences. Use this information to refine your value proposition and differentiate your offering in the marketplace.\\n\\n\\n\\n**3. Develop a Solid Business Plan**\\n\\n\\n\\nA well-crafted business plan serves as a roadmap for your startup's growth and success. Outline your business model, revenue streams, marketing strategy, and operational plan. Set realistic milestones and financial projections to track your progress and attract potential investors or stakeholders.\\n\\n\\n\\n**4. Build a Strong Team**\\n\\n\\n\\nSurround yourself with talented individuals who share your passion and vision for the startup. Assemble a diverse team with complementary skills and experiences, including technical expertise, sales and marketing acumen, and operational know-how. Cultivate a culture of collaboration, creativity, and accountability to foster innovation and drive results.\\n\\n\\n\\n**5. Create a Minimum Viable Product (MVP)**\\n\\n\\n\\nInstead of striving for perfection from the outset, focus on developing a minimum viable product (MVP) that addresses a core customer pain point. Keep your product simple, functional, and user-friendly, allowing for rapid iteration and feedback from early adopters. Use agile development methodologies to iterate quickly and prioritize features based on user feedback and market demand.\\n\\n\\n\\n**6. Validate and Iterate**\\n\\n\\n\\nOnce you've launched your MVP, gather feedback from customers, iterate based on their insights, and continuously refine your product or service. Stay agile and responsive to changing market dynamics, emerging trends, and competitive pressures. Embrace failure as a learning opportunity and pivot when necessary to stay relevant and competitive.\\n\\n\\n\\n**7. Scale and Expand**\\n\\n\\n\\nAs your startup gains traction and momentum, focus on scaling your operations and expanding your market reach. Invest in scalable infrastructure, technology, and talent to support growth and scalability. Explore strategic partnerships, distribution channels, and expansion opportunities to accelerate your startup's trajectory and maximize its impact.\\n\\n\\n\\n**8. Cultivate a Strong Brand and Culture**\\n\\n\\n\\nBuild a strong brand identity and culture that resonates with your target audience and reflects your startup's values and personality. Invest in branding, storytelling, and customer experience to differentiate your brand and build lasting relationships with customers. Foster a positive and inclusive work environment that empowers employees to thrive and contribute to the startup's success.\\n\\n\\n\\n**9. Secure Funding and Resources**\\n\\n\\n\\nIdentify sources of funding and resources to fuel your startup's growth and expansion. Explore a variety of financing options, including bootstrapping, angel investors, venture capital, crowdfunding, and grants. Prepare compelling pitches and presentations to attract investors and secure the necessary capital to execute your business plan and achieve your goals.\\n\\n\\n\\n**10. Stay Resilient and Persistent**\\n\\n\\n\\nBuilding a startup is a marathon, not a sprint. Stay resilient, persistent, and adaptable in the face of adversity and setbacks. Embrace challenges as opportunities for growth and learning, and maintain a positive attitude and mindset throughout the entrepreneurial journey. Celebrate small victories and milestones along the way, and remember that success rarely happens overnight.\\n\\n\\n\\nIn conclusion, building a successful startup requires a combination of vision, strategy, execution, and perseverance. By following these essential steps and strategies, aspiring entrepreneurs can navigate the complexities of the startup ecosystem and increase their chances of building a sustainable and impactful business. Stay focused on your mission, stay agile in your approach, and above all, believe in yourself and your startup's potential to change the world.\", start_char_idx=None, end_char_idx=None, text_template='{metadata_str}\\n\\n{content}', metadata_template='{key}: {value}', metadata_seperator='\\n'),\n",
       " Document(id_='9cdba3fb-7980-4160-b2c4-8cdd954f6525', embedding=None, metadata={'file_name': 'state_of_the_union.docx', 'file_path': 'E:\\\\GenAI projects\\\\rag_assignment\\\\docs\\\\state_of_the_union.docx', 'file_type': 'application/vnd.openxmlformats-officedocument.wordprocessingml.document', 'file_size': 37706, 'creation_date': '2024-04-23', 'last_modified_date': '2024-05-16'}, excluded_embed_metadata_keys=['file_name', 'file_type', 'file_size', 'creation_date', 'last_modified_date', 'last_accessed_date'], excluded_llm_metadata_keys=['file_name', 'file_type', 'file_size', 'creation_date', 'last_modified_date', 'last_accessed_date'], relationships={}, text='Madam Speaker, Madam Vice President, our First Lady and Second Gentleman. Members of Congress and the Cabinet. Justices of the Supreme Court. My fellow Americans.  \\n\\n\\n\\nLast year COVID-19 kept us apart. This year we are finally together again. \\n\\n\\n\\nTonight, we meet as Democrats Republicans and Independents. But most importantly as Americans. \\n\\n\\n\\nWith a duty to one another to the American people to the Constitution. \\n\\n\\n\\nAnd with an unwavering resolve that freedom will always triumph over tyranny. \\n\\n\\n\\nSix days ago, Russia’s Vladimir Putin sought to shake the foundations of the free world thinking he could make it bend to his menacing ways. But he badly miscalculated. \\n\\n\\n\\nHe thought he could roll into Ukraine and the world would roll over. Instead he met a wall of strength he never imagined. \\n\\n\\n\\nHe met the Ukrainian people. \\n\\n\\n\\nFrom President Zelenskyy to every Ukrainian, their fearlessness, their courage, their determination, inspires the world. \\n\\n\\n\\nGroups of citizens blocking tanks with their bodies. Everyone from students to retirees teachers turned soldiers defending their homeland. \\n\\n\\n\\nIn this struggle as President Zelenskyy said in his speech to the European Parliament “Light will win over darkness.” The Ukrainian Ambassador to the United States is here tonight. \\n\\n\\n\\nLet each of us here tonight in this Chamber send an unmistakable signal to Ukraine and to the world. \\n\\n\\n\\nPlease rise if you are able and show that, Yes, we the United States of America stand with the Ukrainian people. \\n\\n\\n\\nThroughout our history we’ve learned this lesson when dictators do not pay a price for their aggression they cause more chaos.   \\n\\n\\n\\nThey keep moving.   \\n\\n\\n\\nAnd the costs and the threats to America and the world keep rising.   \\n\\n\\n\\nThat’s why the NATO Alliance was created to secure peace and stability in Europe after World War 2. \\n\\n\\n\\nThe United States is a member along with 29 other nations. \\n\\n\\n\\nIt matters. American diplomacy matters. American resolve matters. \\n\\n\\n\\nPutin’s latest attack on Ukraine was premeditated and unprovoked. \\n\\n\\n\\nHe rejected repeated efforts at diplomacy. \\n\\n\\n\\nHe thought the West and NATO wouldn’t respond. And he thought he could divide us at home. Putin was wrong. We were ready.  Here is what we did.   \\n\\n\\n\\nWe prepared extensively and carefully. \\n\\n\\n\\nWe spent months building a coalition of other freedom-loving nations from Europe and the Americas to Asia and Africa to confront Putin. \\n\\n\\n\\nI spent countless hours unifying our European allies. We shared with the world in advance what we knew Putin was planning and precisely how he would try to falsely justify his aggression.  \\n\\n\\n\\nWe countered Russia’s lies with truth.   \\n\\n\\n\\nAnd now that he has acted the free world is holding him accountable. \\n\\n\\n\\nAlong with twenty-seven members of the European Union including France, Germany, Italy, as well as countries like the United Kingdom, Canada, Japan, Korea, Australia, New Zealand, and many others, even Switzerland. \\n\\n\\n\\nWe are inflicting pain on Russia and supporting the people of Ukraine. Putin is now isolated from the world more than ever. \\n\\n\\n\\nTogether with our allies –we are right now enforcing powerful economic sanctions. \\n\\n\\n\\nWe are cutting off Russia’s largest banks from the international financial system.  \\n\\n\\n\\nPreventing Russia’s central bank from defending the Russian Ruble making Putin’s $630 Billion “war fund” worthless.   \\n\\n\\n\\nWe are choking off Russia’s access to technology that will sap its economic strength and weaken its military for years to come.  \\n\\n\\n\\nTonight I say to the Russian oligarchs and corrupt leaders who have bilked billions of dollars off this violent regime no more. \\n\\n\\n\\nThe U.S. Department of Justice is assembling a dedicated task force to go after the crimes of Russian oligarchs.  \\n\\n\\n\\nWe are joining with our European allies to find and seize your yachts your luxury apartments your private jets. We are coming for your ill-begotten gains. \\n\\n\\n\\nAnd tonight I am announcing that we will join our allies in closing off American air space to all Russian flights – further isolating Russia – and adding an additional squeeze –on their economy. The Ruble has lost 30% of its value. \\n\\n\\n\\nThe Russian stock market has lost 40% of its value and trading remains suspended. Russia’s economy is reeling and Putin alone is to blame. \\n\\n\\n\\nTogether with our allies we are providing support to the Ukrainians in their fight for freedom. Military assistance. Economic assistance. Humanitarian assistance. \\n\\n\\n\\nWe are giving more than $1 Billion in direct assistance to Ukraine. \\n\\n\\n\\nAnd we will continue to aid the Ukrainian people as they defend their country and to help ease their suffering.  \\n\\n\\n\\nLet me be clear, our forces are not engaged and will not engage in conflict with Russian forces in Ukraine.  \\n\\n\\n\\nOur forces are not going to Europe to fight in Ukraine, but to defend our NATO Allies – in the event that Putin decides to keep moving west.  \\n\\n\\n\\nFor that purpose we’ve mobilized American ground forces, air squadrons, and ship deployments to protect NATO countries including Poland, Romania, Latvia, Lithuania, and Estonia. \\n\\n\\n\\nAs I have made crystal clear the United States and our Allies will defend every inch of territory of NATO countries with the full force of our collective power.  \\n\\n\\n\\nAnd we remain clear-eyed. The Ukrainians are fighting back with pure courage. But the next few days weeks, months, will be hard on them.  \\n\\n\\n\\nPutin has unleashed violence and chaos.  But while he may make gains on the battlefield – he will pay a continuing high price over the long run. \\n\\n\\n\\nAnd a proud Ukrainian people, who have known 30 years  of independence, have repeatedly shown that they will not tolerate anyone who tries to take their country backwards.  \\n\\n\\n\\nTo all Americans, I will be honest with you, as I’ve always promised. A Russian dictator, invading a foreign country, has costs around the world. \\n\\n\\n\\nAnd I’m taking robust action to make sure the pain of our sanctions  is targeted at Russia’s economy. And I will use every tool at our disposal to protect American businesses and consumers. \\n\\n\\n\\nTonight, I can announce that the United States has worked with 30 other countries to release 60 Million barrels of oil from reserves around the world.  \\n\\n\\n\\nAmerica will lead that effort, releasing 30 Million barrels from our own Strategic Petroleum Reserve. And we stand ready to do more if necessary, unified with our allies.  \\n\\n\\n\\nThese steps will help blunt gas prices here at home. And I know the news about what’s happening can seem alarming. \\n\\n\\n\\nBut I want you to know that we are going to be okay. \\n\\n\\n\\nWhen the history of this era is written Putin’s war on Ukraine will have left Russia weaker and the rest of the world stronger. \\n\\n\\n\\nWhile it shouldn’t have taken something so terrible for people around the world to see what’s at stake now everyone sees it clearly. \\n\\n\\n\\nWe see the unity among leaders of nations and a more unified Europe a more unified West. And we see unity among the people who are gathering in cities in large crowds around the world even in Russia to demonstrate their support for Ukraine.  \\n\\n\\n\\nIn the battle between democracy and autocracy, democracies are rising to the moment, and the world is clearly choosing the side of peace and security. \\n\\n\\n\\nThis is a real test. It’s going to take time. So let us continue to draw inspiration from the iron will of the Ukrainian people. \\n\\n\\n\\nTo our fellow Ukrainian Americans who forge a deep bond that connects our two nations we stand with you. \\n\\n\\n\\nPutin may circle Kyiv with tanks, but he will never gain the hearts and souls of the Ukrainian people. \\n\\n\\n\\nHe will never extinguish their love of freedom. He will never weaken the resolve of the free world. \\n\\n\\n\\nWe meet tonight in an America that has lived through two of the hardest years this nation has ever faced. \\n\\n\\n\\nThe pandemic has been punishing. \\n\\n\\n\\nAnd so many families are living paycheck to paycheck, struggling to keep up with the rising cost of food, gas, housing, and so much more. \\n\\n\\n\\nI understand. \\n\\n\\n\\nI remember when my Dad had to leave our home in Scranton, Pennsylvania to find work. I grew up in a family where if the price of food went up, you felt it. \\n\\n\\n\\nThat’s why one of the first things I did as President was fight to pass the American Rescue Plan.  \\n\\n\\n\\nBecause people were hurting. We needed to act, and we did. \\n\\n\\n\\nFew pieces of legislation have done more in a critical moment in our history to lift us out of crisis. \\n\\n\\n\\nIt fueled our efforts to vaccinate the nation and combat COVID-19. It delivered immediate economic relief for tens of millions of Americans.  \\n\\n\\n\\nHelped put food on their table, keep a roof over their heads, and cut the cost of health insurance. \\n\\n\\n\\nAnd as my Dad used to say, it gave people a little breathing room. \\n\\n\\n\\nAnd unlike the $2 Trillion tax cut passed in the previous administration that benefitted the top 1% of Americans, the American Rescue Plan helped working people—and left no one behind. \\n\\n\\n\\nAnd it worked. It created jobs. Lots of jobs. \\n\\n\\n\\nIn fact—our economy created over 6.5 Million new jobs just last year, more jobs created in one year  \\n\\nthan ever before in the history of America. \\n\\n\\n\\nOur economy grew at a rate of 5.7% last year, the strongest growth in nearly 40 years, the first step in bringing fundamental change to an economy that hasn’t worked for the working people of this nation for too long.  \\n\\n\\n\\nFor the past 40 years we were told that if we gave tax breaks to those at the very top, the benefits would trickle down to everyone else. \\n\\n\\n\\nBut that trickle-down theory led to weaker economic growth, lower wages, bigger deficits, and the widest gap between those at the top and everyone else in nearly a century. \\n\\n\\n\\nVice President Harris and I ran for office with a new economic vision for America. \\n\\n\\n\\nInvest in America. Educate Americans. Grow the workforce. Build the economy from the bottom up  \\n\\nand the middle out, not from the top down.  \\n\\n\\n\\nBecause we know that when the middle class grows, the poor have a ladder up and the wealthy do very well. \\n\\n\\n\\nAmerica used to have the best roads, bridges, and airports on Earth. \\n\\n\\n\\nNow our infrastructure is ranked 13th in the world. \\n\\n\\n\\nWe won’t be able to compete for the jobs of the 21st Century if we don’t fix that. \\n\\n\\n\\nThat’s why it was so important to pass the Bipartisan Infrastructure Law—the most sweeping investment to rebuild America in history. \\n\\n\\n\\nThis was a bipartisan effort, and I want to thank the members of both parties who worked to make it happen. \\n\\n\\n\\nWe’re done talking about infrastructure weeks. \\n\\n\\n\\nWe’re going to have an infrastructure decade. \\n\\n\\n\\nIt is going to transform America and put us on a path to win the economic competition of the 21st Century that we face with the rest of the world—particularly with China.  \\n\\n\\n\\nAs I’ve told Xi Jinping, it is never a good bet to bet against the American people. \\n\\n\\n\\nWe’ll create good jobs for millions of Americans, modernizing roads, airports, ports, and waterways all across America. \\n\\n\\n\\nAnd we’ll do it all to withstand the devastating effects of the climate crisis and promote environmental justice. \\n\\n\\n\\nWe’ll build a national network of 500,000 electric vehicle charging stations, begin to replace poisonous lead pipes—so every child—and every American—has clean water to drink at home and at school, provide affordable high-speed internet for every American—urban, suburban, rural, and tribal communities. \\n\\n\\n\\n4,000 projects have already been announced. \\n\\n\\n\\nAnd tonight, I’m announcing that this year we will start fixing over 65,000 miles of highway and 1,500 bridges in disrepair. \\n\\n\\n\\nWhen we use taxpayer dollars to rebuild America – we are going to Buy American: buy American products to support American jobs. \\n\\n\\n\\nThe federal government spends about $600 Billion a year to keep the country safe and secure. \\n\\n\\n\\nThere’s been a law on the books for almost a century \\n\\nto make sure taxpayers’ dollars support American jobs and businesses. \\n\\n\\n\\nEvery Administration says they’ll do it, but we are actually doing it. \\n\\n\\n\\nWe will buy American to make sure everything from the deck of an aircraft carrier to the steel on highway guardrails are made in America. \\n\\n\\n\\nBut to compete for the best jobs of the future, we also need to level the playing field with China and other competitors. \\n\\n\\n\\nThat’s why it is so important to pass the Bipartisan Innovation Act sitting in Congress that will make record investments in emerging technologies and American manufacturing. \\n\\n\\n\\nLet me give you one example of why it’s so important to pass it. \\n\\n\\n\\nIf you travel 20 miles east of Columbus, Ohio, you’ll find 1,000 empty acres of land. \\n\\n\\n\\nIt won’t look like much, but if you stop and look closely, you’ll see a “Field of dreams,” the ground on which America’s future will be built. \\n\\n\\n\\nThis is where Intel, the American company that helped build Silicon Valley, is going to build its $20 billion semiconductor “mega site”. \\n\\n\\n\\nUp to eight state-of-the-art factories in one place. 10,000 new good-paying jobs. \\n\\n\\n\\nSome of the most sophisticated manufacturing in the world to make computer chips the size of a fingertip that power the world and our everyday lives. \\n\\n\\n\\nSmartphones. The Internet. Technology we have yet to invent. \\n\\n\\n\\nBut that’s just the beginning. \\n\\n\\n\\nIntel’s CEO, Pat Gelsinger, who is here tonight, told me they are ready to increase their investment from  \\n\\n$20 billion to $100 billion. \\n\\n\\n\\nThat would be one of the biggest investments in manufacturing in American history. \\n\\n\\n\\nAnd all they’re waiting for is for you to pass this bill. \\n\\n\\n\\nSo let’s not wait any longer. Send it to my desk. I’ll sign it.  \\n\\n\\n\\nAnd we will really take off. \\n\\n\\n\\nAnd Intel is not alone. \\n\\n\\n\\nThere’s something happening in America. \\n\\n\\n\\nJust look around and you’ll see an amazing story. \\n\\n\\n\\nThe rebirth of the pride that comes from stamping products “Made In America.” The revitalization of American manufacturing.   \\n\\n\\n\\nCompanies are choosing to build new factories here, when just a few years ago, they would have built them overseas. \\n\\n\\n\\nThat’s what is happening. Ford is investing $11 billion to build electric vehicles, creating 11,000 jobs across the country. \\n\\n\\n\\nGM is making the largest investment in its history—$7 billion to build electric vehicles, creating 4,000 jobs in Michigan. \\n\\n\\n\\nAll told, we created 369,000 new manufacturing jobs in America just last year. \\n\\n\\n\\nPowered by people I’ve met like JoJo Burgess, from generations of union steelworkers from Pittsburgh, who’s here with us tonight. \\n\\n\\n\\nAs Ohio Senator Sherrod Brown says, “It’s time to bury the label “Rust Belt.” \\n\\n\\n\\nIt’s time. \\n\\n\\n\\nBut with all the bright spots in our economy, record job growth and higher wages, too many families are struggling to keep up with the bills.  \\n\\n\\n\\nInflation is robbing them of the gains they might otherwise feel. \\n\\n\\n\\nI get it. That’s why my top priority is getting prices under control. \\n\\n\\n\\nLook, our economy roared back faster than most predicted, but the pandemic meant that businesses had a hard time hiring enough workers to keep up production in their factories. \\n\\n\\n\\nThe pandemic also disrupted global supply chains. \\n\\n\\n\\nWhen factories close, it takes longer to make goods and get them from the warehouse to the store, and prices go up. \\n\\n\\n\\nLook at cars. \\n\\n\\n\\nLast year, there weren’t enough semiconductors to make all the cars that people wanted to buy. \\n\\n\\n\\nAnd guess what, prices of automobiles went up. \\n\\n\\n\\nSo—we have a choice. \\n\\n\\n\\nOne way to fight inflation is to drive down wages and make Americans poorer.  \\n\\n\\n\\nI have a better plan to fight inflation. \\n\\n\\n\\nLower your costs, not your wages. \\n\\n\\n\\nMake more cars and semiconductors in America. \\n\\n\\n\\nMore infrastructure and innovation in America. \\n\\n\\n\\nMore goods moving faster and cheaper in America. \\n\\n\\n\\nMore jobs where you can earn a good living in America. \\n\\n\\n\\nAnd instead of relying on foreign supply chains, let’s make it in America. \\n\\n\\n\\nEconomists call it “increasing the productive capacity of our economy.” \\n\\n\\n\\nI call it building a better America. \\n\\n\\n\\nMy plan to fight inflation will lower your costs and lower the deficit. \\n\\n\\n\\n17 Nobel laureates in economics say my plan will ease long-term inflationary pressures. Top business leaders and most Americans support my plan. And here’s the plan: \\n\\n\\n\\nFirst – cut the cost of prescription drugs. Just look at insulin. One in ten Americans has diabetes. In Virginia, I met a 13-year-old boy named Joshua Davis.  \\n\\n\\n\\nHe and his Dad both have Type 1 diabetes, which means they need insulin every day. Insulin costs about $10 a vial to make.  \\n\\n\\n\\nBut drug companies charge families like Joshua and his Dad up to 30 times more. I spoke with Joshua’s mom. \\n\\n\\n\\nImagine what it’s like to look at your child who needs insulin and have no idea how you’re going to pay for it.  \\n\\n\\n\\nWhat it does to your dignity, your ability to look your child in the eye, to be the parent you expect to be. \\n\\n\\n\\nJoshua is here with us tonight. Yesterday was his birthday. Happy birthday, buddy.  \\n\\n\\n\\nFor Joshua, and for the 200,000 other young people with Type 1 diabetes, let’s cap the cost of insulin at $35 a month so everyone can afford it.  \\n\\n\\n\\nDrug companies will still do very well. And while we’re at it let Medicare negotiate lower prices for prescription drugs, like the VA already does. \\n\\n\\n\\nLook, the American Rescue Plan is helping millions of families on Affordable Care Act plans save $2,400 a year on their health care premiums. Let’s close the coverage gap and make those savings permanent. \\n\\n\\n\\nSecond – cut energy costs for families an average of $500 a year by combatting climate change.  \\n\\n\\n\\nLet’s provide investments and tax credits to weatherize your homes and businesses to be energy efficient and you get a tax credit; double America’s clean energy production in solar, wind, and so much more;  lower the price of electric vehicles, saving you another $80 a month because you’ll never have to pay at the gas pump again. \\n\\n\\n\\nThird – cut the cost of child care. Many families pay up to $14,000 a year for child care per child.  \\n\\n\\n\\nMiddle-class and working families shouldn’t have to pay more than 7% of their income for care of young children.  \\n\\n\\n\\nMy plan will cut the cost in half for most families and help parents, including millions of women, who left the workforce during the pandemic because they couldn’t afford child care, to be able to get back to work. \\n\\n\\n\\nMy plan doesn’t stop there. It also includes home and long-term care. More affordable housing. And Pre-K for every 3- and 4-year-old.  \\n\\n\\n\\nAll of these will lower costs. \\n\\n\\n\\nAnd under my plan, nobody earning less than $400,000 a year will pay an additional penny in new taxes. Nobody.  \\n\\n\\n\\nThe one thing all Americans agree on is that the tax system is not fair. We have to fix it.  \\n\\n\\n\\nI’m not looking to punish anyone. But let’s make sure corporations and the wealthiest Americans start paying their fair share. \\n\\n\\n\\nJust last year, 55 Fortune 500 corporations earned $40 billion in profits and paid zero dollars in federal income tax.  \\n\\n\\n\\nThat’s simply not fair. That’s why I’ve proposed a 15% minimum tax rate for corporations. \\n\\n\\n\\nWe got more than 130 countries to agree on a global minimum tax rate so companies can’t get out of paying their taxes at home by shipping jobs and factories overseas. \\n\\n\\n\\nThat’s why I’ve proposed closing loopholes so the very wealthy don’t pay a lower tax rate than a teacher or a firefighter.  \\n\\n\\n\\nSo that’s my plan. It will grow the economy and lower costs for families. \\n\\n\\n\\nSo what are we waiting for? Let’s get this done. And while you’re at it, confirm my nominees to the Federal Reserve, which plays a critical role in fighting inflation.  \\n\\n\\n\\nMy plan will not only lower costs to give families a fair shot, it will lower the deficit. \\n\\n\\n\\nThe previous Administration not only ballooned the deficit with tax cuts for the very wealthy and corporations, it undermined the watchdogs whose job was to keep pandemic relief funds from being wasted. \\n\\n\\n\\nBut in my administration, the watchdogs have been welcomed back. \\n\\n\\n\\nWe’re going after the criminals who stole billions in relief money meant for small businesses and millions of Americans.  \\n\\n\\n\\nAnd tonight, I’m announcing that the Justice Department will name a chief prosecutor for pandemic fraud. \\n\\n\\n\\nBy the end of this year, the deficit will be down to less than half what it was before I took office.  \\n\\n\\n\\nThe only president ever to cut the deficit by more than one trillion dollars in a single year. \\n\\n\\n\\nLowering your costs also means demanding more competition. \\n\\n\\n\\nI’m a capitalist, but capitalism without competition isn’t capitalism. \\n\\n\\n\\nIt’s exploitation—and it drives up prices. \\n\\n\\n\\nWhen corporations don’t have to compete, their profits go up, your prices go up, and small businesses and family farmers and ranchers go under. \\n\\n\\n\\nWe see it happening with ocean carriers moving goods in and out of America. \\n\\n\\n\\nDuring the pandemic, these foreign-owned companies raised prices by as much as 1,000% and made record profits. \\n\\n\\n\\nTonight, I’m announcing a crackdown on these companies overcharging American businesses and consumers. \\n\\n\\n\\nAnd as Wall Street firms take over more nursing homes, quality in those homes has gone down and costs have gone up.  \\n\\n\\n\\nThat ends on my watch. \\n\\n\\n\\nMedicare is going to set higher standards for nursing homes and make sure your loved ones get the care they deserve and expect. \\n\\n\\n\\nWe’ll also cut costs and keep the economy going strong by giving workers a fair shot, provide more training and apprenticeships, hire them based on their skills not degrees. \\n\\n\\n\\nLet’s pass the Paycheck Fairness Act and paid leave.  \\n\\n\\n\\nRaise the minimum wage to $15 an hour and extend the Child Tax Credit, so no one has to raise a family in poverty. \\n\\n\\n\\nLet’s increase Pell Grants and increase our historic support of HBCUs, and invest in what Jill—our First Lady who teaches full-time—calls America’s best-kept secret: community colleges. \\n\\n\\n\\nAnd let’s pass the PRO Act when a majority of workers want to form a union—they shouldn’t be stopped.  \\n\\n\\n\\nWhen we invest in our workers, when we build the economy from the bottom up and the middle out together, we can do something we haven’t done in a long time: build a better America. \\n\\n\\n\\nFor more than two years, COVID-19 has impacted every decision in our lives and the life of the nation. \\n\\n\\n\\nAnd I know you’re tired, frustrated, and exhausted. \\n\\n\\n\\nBut I also know this. \\n\\n\\n\\nBecause of the progress we’ve made, because of your resilience and the tools we have, tonight I can say  \\n\\nwe are moving forward safely, back to more normal routines.  \\n\\n\\n\\nWe’ve reached a new moment in the fight against COVID-19, with severe cases down to a level not seen since last July.  \\n\\n\\n\\nJust a few days ago, the Centers for Disease Control and Prevention—the CDC—issued new mask guidelines. \\n\\n\\n\\nUnder these new guidelines, most Americans in most of the country can now be mask free.   \\n\\n\\n\\nAnd based on the projections, more of the country will reach that point across the next couple of weeks. \\n\\n\\n\\nThanks to the progress we have made this past year, COVID-19 need no longer control our lives.  \\n\\n\\n\\nI know some are talking about “living with COVID-19”. Tonight – I say that we will never just accept living with COVID-19. \\n\\n\\n\\nWe will continue to combat the virus as we do other diseases. And because this is a virus that mutates and spreads, we will stay on guard. \\n\\n\\n\\nHere are four common sense steps as we move forward safely.  \\n\\n\\n\\nFirst, stay protected with vaccines and treatments. We know how incredibly effective vaccines are. If you’re vaccinated and boosted you have the highest degree of protection. \\n\\n\\n\\nWe will never give up on vaccinating more Americans. Now, I know parents with kids under 5 are eager to see a vaccine authorized for their children. \\n\\n\\n\\nThe scientists are working hard to get that done and we’ll be ready with plenty of vaccines when they do. \\n\\n\\n\\nWe’re also ready with anti-viral treatments. If you get COVID-19, the Pfizer pill reduces your chances of ending up in the hospital by 90%.  \\n\\n\\n\\nWe’ve ordered more of these pills than anyone in the world. And Pfizer is working overtime to get us 1 Million pills this month and more than double that next month.  \\n\\n\\n\\nAnd we’re launching the “Test to Treat” initiative so people can get tested at a pharmacy, and if they’re positive, receive antiviral pills on the spot at no cost.  \\n\\n\\n\\nIf you’re immunocompromised or have some other vulnerability, we have treatments and free high-quality masks. \\n\\n\\n\\nWe’re leaving no one behind or ignoring anyone’s needs as we move forward. \\n\\n\\n\\nAnd on testing, we have made hundreds of millions of tests available for you to order for free.   \\n\\n\\n\\nEven if you already ordered free tests tonight, I am announcing that you can order more from covidtests.gov starting next week. \\n\\n\\n\\nSecond – we must prepare for new variants. Over the past year, we’ve gotten much better at detecting new variants. \\n\\n\\n\\nIf necessary, we’ll be able to deploy new vaccines within 100 days instead of many more months or years.  \\n\\n\\n\\nAnd, if Congress provides the funds we need, we’ll have new stockpiles of tests, masks, and pills ready if needed. \\n\\n\\n\\nI cannot promise a new variant won’t come. But I can promise you we’ll do everything within our power to be ready if it does.  \\n\\n\\n\\nThird – we can end the shutdown of schools and businesses. We have the tools we need. \\n\\n\\n\\nIt’s time for Americans to get back to work and fill our great downtowns again.  People working from home can feel safe to begin to return to the office.   \\n\\n\\n\\nWe’re doing that here in the federal government. The vast majority of federal workers will once again work in person. \\n\\n\\n\\nOur schools are open. Let’s keep it that way. Our kids need to be in school. \\n\\n\\n\\nAnd with 75% of adult Americans fully vaccinated and hospitalizations down by 77%, most Americans can remove their masks, return to work, stay in the classroom, and move forward safely. \\n\\n\\n\\nWe achieved this because we provided free vaccines, treatments, tests, and masks. \\n\\n\\n\\nOf course, continuing this costs money. \\n\\n\\n\\nI will soon send Congress a request. \\n\\n\\n\\nThe vast majority of Americans have used these tools and may want to again, so I expect Congress to pass it quickly.   \\n\\n\\n\\nFourth, we will continue vaccinating the world.     \\n\\n\\n\\nWe’ve sent 475 Million vaccine doses to 112 countries, more than any other nation. \\n\\n\\n\\nAnd we won’t stop. \\n\\n\\n\\nWe have lost so much to COVID-19. Time with one another. And worst of all, so much loss of life. \\n\\n\\n\\nLet’s use this moment to reset. Let’s stop looking at COVID-19 as a partisan dividing line and see it for what it is: A God-awful disease.  \\n\\n\\n\\nLet’s stop seeing each other as enemies, and start seeing each other for who we really are: Fellow Americans.  \\n\\n\\n\\nWe can’t change how divided we’ve been. But we can change how we move forward—on COVID-19 and other issues we must face together. \\n\\n\\n\\nI recently visited the New York City Police Department days after the funerals of Officer Wilbert Mora and his partner, Officer Jason Rivera. \\n\\n\\n\\nThey were responding to a 9-1-1 call when a man shot and killed them with a stolen gun. \\n\\n\\n\\nOfficer Mora was 27 years old. \\n\\n\\n\\nOfficer Rivera was 22. \\n\\n\\n\\nBoth Dominican Americans who’d grown up on the same streets they later chose to patrol as police officers. \\n\\n\\n\\nI spoke with their families and told them that we are forever in debt for their sacrifice, and we will carry on their mission to restore the trust and safety every community deserves. \\n\\n\\n\\nI’ve worked on these issues a long time. \\n\\n\\n\\nI know what works: Investing in crime preventionand community police officers who’ll walk the beat, who’ll know the neighborhood, and who can restore trust and safety. \\n\\n\\n\\nSo let’s not abandon our streets. Or choose between safety and equal justice. \\n\\n\\n\\nLet’s come together to protect our communities, restore trust, and hold law enforcement accountable. \\n\\n\\n\\nThat’s why the Justice Department required body cameras, banned chokeholds, and restricted no-knock warrants for its officers. \\n\\n\\n\\nThat’s why the American Rescue Plan provided $350 Billion that cities, states, and counties can use to hire more police and invest in proven strategies like community violence interruption—trusted messengers breaking the cycle of violence and trauma and giving young people hope.  \\n\\n\\n\\nWe should all agree: The answer is not to Defund the police. The answer is to FUND the police with the resources and training they need to protect our communities. \\n\\n\\n\\nI ask Democrats and Republicans alike: Pass my budget and keep our neighborhoods safe.  \\n\\n\\n\\nAnd I will keep doing everything in my power to crack down on gun trafficking and ghost guns you can buy online and make at home—they have no serial numbers and can’t be traced. \\n\\n\\n\\nAnd I ask Congress to pass proven measures to reduce gun violence. Pass universal background checks. Why should anyone on a terrorist list be able to purchase a weapon? \\n\\n\\n\\nBan assault weapons and high-capacity magazines. \\n\\n\\n\\nRepeal the liability shield that makes gun manufacturers the only industry in America that can’t be sued. \\n\\n\\n\\nThese laws don’t infringe on the Second Amendment. They save lives. \\n\\n\\n\\nThe most fundamental right in America is the right to vote – and to have it counted. And it’s under assault. \\n\\n\\n\\nIn state after state, new laws have been passed, not only to suppress the vote, but to subvert entire elections. \\n\\n\\n\\nWe cannot let this happen. \\n\\n\\n\\nTonight. I call on the Senate to: Pass the Freedom to Vote Act. Pass the John Lewis Voting Rights Act. And while you’re at it, pass the Disclose Act so Americans can know who is funding our elections. \\n\\n\\n\\nTonight, I’d like to honor someone who has dedicated his life to serve this country: Justice Stephen Breyer—an Army veteran, Constitutional scholar, and retiring Justice of the United States Supreme Court. Justice Breyer, thank you for your service. \\n\\n\\n\\nOne of the most serious constitutional responsibilities a President has is nominating someone to serve on the United States Supreme Court. \\n\\n\\n\\nAnd I did that 4 days ago, when I nominated Circuit Court of Appeals Judge Ketanji Brown Jackson. One of our nation’s top legal minds, who will continue Justice Breyer’s legacy of excellence. \\n\\n\\n\\nA former top litigator in private practice. A former federal public defender. And from a family of public school educators and police officers. A consensus builder. Since she’s been nominated, she’s received a broad range of support—from the Fraternal Order of Police to former judges appointed by Democrats and Republicans. \\n\\n\\n\\nAnd if we are to advance liberty and justice, we need to secure the Border and fix the immigration system. \\n\\n\\n\\nWe can do both. At our border, we’ve installed new technology like cutting-edge scanners to better detect drug smuggling.  \\n\\n\\n\\nWe’ve set up joint patrols with Mexico and Guatemala to catch more human traffickers.  \\n\\n\\n\\nWe’re putting in place dedicated immigration judges so families fleeing persecution and violence can have their cases heard faster. \\n\\n\\n\\nWe’re securing commitments and supporting partners in South and Central America to host more refugees and secure their own borders. \\n\\n\\n\\nWe can do all this while keeping lit the torch of liberty that has led generations of immigrants to this land—my forefathers and so many of yours. \\n\\n\\n\\nProvide a pathway to citizenship for Dreamers, those on temporary status, farm workers, and essential workers. \\n\\n\\n\\nRevise our laws so businesses have the workers they need and families don’t wait decades to reunite. \\n\\n\\n\\nIt’s not only the right thing to do—it’s the economically smart thing to do. \\n\\n\\n\\nThat’s why immigration reform is supported by everyone from labor unions to religious leaders to the U.S. Chamber of Commerce. \\n\\n\\n\\nLet’s get it done once and for all. \\n\\n\\n\\nAdvancing liberty and justice also requires protecting the rights of women. \\n\\n\\n\\nThe constitutional right affirmed in Roe v. Wade—standing precedent for half a century—is under attack as never before. \\n\\n\\n\\nIf we want to go forward—not backward—we must protect access to health care. Preserve a woman’s right to choose. And let’s continue to advance maternal health care in America. \\n\\n\\n\\nAnd for our LGBTQ+ Americans, let’s finally get the bipartisan Equality Act to my desk. The onslaught of state laws targeting transgender Americans and their families is wrong. \\n\\n\\n\\nAs I said last year, especially to our younger transgender Americans, I will always have your back as your President, so you can be yourself and reach your God-given potential. \\n\\n\\n\\nWhile it often appears that we never agree, that isn’t true. I signed 80 bipartisan bills into law last year. From preventing government shutdowns to protecting Asian-Americans from still-too-common hate crimes to reforming military justice. \\n\\n\\n\\nAnd soon, we’ll strengthen the Violence Against Women Act that I first wrote three decades ago. It is important for us to show the nation that we can come together and do big things. \\n\\n\\n\\nSo tonight I’m offering a Unity Agenda for the Nation. Four big things we can do together.  \\n\\n\\n\\nFirst, beat the opioid epidemic. \\n\\n\\n\\nThere is so much we can do. Increase funding for prevention, treatment, harm reduction, and recovery.  \\n\\n\\n\\nGet rid of outdated rules that stop doctors from prescribing treatments. And stop the flow of illicit drugs by working with state and local law enforcement to go after traffickers. \\n\\n\\n\\nIf you’re suffering from addiction, know you are not alone. I believe in recovery, and I celebrate the 23 million Americans in recovery. \\n\\n\\n\\nSecond, let’s take on mental health. Especially among our children, whose lives and education have been turned upside down.  \\n\\n\\n\\nThe American Rescue Plan gave schools money to hire teachers and help students make up for lost learning.  \\n\\n\\n\\nI urge every parent to make sure your school does just that. And we can all play a part—sign up to be a tutor or a mentor. \\n\\n\\n\\nChildren were also struggling before the pandemic. Bullying, violence, trauma, and the harms of social media. \\n\\n\\n\\nAs Frances Haugen, who is here with us tonight, has shown, we must hold social media platforms accountable for the national experiment they’re conducting on our children for profit. \\n\\n\\n\\nIt’s time to strengthen privacy protections, ban targeted advertising to children, demand tech companies stop collecting personal data on our children. \\n\\n\\n\\nAnd let’s get all Americans the mental health services they need. More people they can turn to for help, and full parity between physical and mental health care. \\n\\n\\n\\nThird, support our veterans. \\n\\n\\n\\nVeterans are the best of us. \\n\\n\\n\\nI’ve always believed that we have a sacred obligation to equip all those we send to war and care for them and their families when they come home. \\n\\n\\n\\nMy administration is providing assistance with job training and housing, and now helping lower-income veterans get VA care debt-free.  \\n\\n\\n\\nOur troops in Iraq and Afghanistan faced many dangers. \\n\\n\\n\\nOne was stationed at bases and breathing in toxic smoke from “burn pits” that incinerated wastes of war—medical and hazard material, jet fuel, and more. \\n\\n\\n\\nWhen they came home, many of the world’s fittest and best trained warriors were never the same. \\n\\n\\n\\nHeadaches. Numbness. Dizziness. \\n\\n\\n\\nA cancer that would put them in a flag-draped coffin. \\n\\n\\n\\nI know. \\n\\n\\n\\nOne of those soldiers was my son Major Beau Biden. \\n\\n\\n\\nWe don’t know for sure if a burn pit was the cause of his brain cancer, or the diseases of so many of our troops. \\n\\n\\n\\nBut I’m committed to finding out everything we can. \\n\\n\\n\\nCommitted to military families like Danielle Robinson from Ohio. \\n\\n\\n\\nThe widow of Sergeant First Class Heath Robinson.  \\n\\n\\n\\nHe was born a soldier. Army National Guard. Combat medic in Kosovo and Iraq. \\n\\n\\n\\nStationed near Baghdad, just yards from burn pits the size of football fields. \\n\\n\\n\\nHeath’s widow Danielle is here with us tonight. They loved going to Ohio State football games. He loved building Legos with their daughter. \\n\\n\\n\\nBut cancer from prolonged exposure to burn pits ravaged Heath’s lungs and body. \\n\\n\\n\\nDanielle says Heath was a fighter to the very end. \\n\\n\\n\\nHe didn’t know how to stop fighting, and neither did she. \\n\\n\\n\\nThrough her pain she found purpose to demand we do better. \\n\\n\\n\\nTonight, Danielle—we are. \\n\\n\\n\\nThe VA is pioneering new ways of linking toxic exposures to diseases, already helping more veterans get benefits. \\n\\n\\n\\nAnd tonight, I’m announcing we’re expanding eligibility to veterans suffering from nine respiratory cancers. \\n\\n\\n\\nI’m also calling on Congress: pass a law to make sure veterans devastated by toxic exposures in Iraq and Afghanistan finally get the benefits and comprehensive health care they deserve. \\n\\n\\n\\nAnd fourth, let’s end cancer as we know it. \\n\\n\\n\\nThis is personal to me and Jill, to Kamala, and to so many of you. \\n\\n\\n\\nCancer is the #2 cause of death in America–second only to heart disease. \\n\\n\\n\\nLast month, I announced our plan to supercharge  \\n\\nthe Cancer Moonshot that President Obama asked me to lead six years ago. \\n\\n\\n\\nOur goal is to cut the cancer death rate by at least 50% over the next 25 years, turn more cancers from death sentences into treatable diseases.  \\n\\n\\n\\nMore support for patients and families. \\n\\n\\n\\nTo get there, I call on Congress to fund ARPA-H, the Advanced Research Projects Agency for Health. \\n\\n\\n\\nIt’s based on DARPA—the Defense Department project that led to the Internet, GPS, and so much more.  \\n\\n\\n\\nARPA-H will have a singular purpose—to drive breakthroughs in cancer, Alzheimer’s, diabetes, and more. \\n\\n\\n\\nA unity agenda for the nation. \\n\\n\\n\\nWe can do this. \\n\\n\\n\\nMy fellow Americans—tonight , we have gathered in a sacred space—the citadel of our democracy. \\n\\n\\n\\nIn this Capitol, generation after generation, Americans have debated great questions amid great strife, and have done great things. \\n\\n\\n\\nWe have fought for freedom, expanded liberty, defeated totalitarianism and terror. \\n\\n\\n\\nAnd built the strongest, freest, and most prosperous nation the world has ever known. \\n\\n\\n\\nNow is the hour. \\n\\n\\n\\nOur moment of responsibility. \\n\\n\\n\\nOur test of resolve and conscience, of history itself. \\n\\n\\n\\nIt is in this moment that our character is formed. Our purpose is found. Our future is forged. \\n\\n\\n\\nWell I know this nation.  \\n\\n\\n\\nWe will meet the test. \\n\\n\\n\\nTo protect freedom and liberty, to expand fairness and opportunity. \\n\\n\\n\\nWe will save democracy. \\n\\n\\n\\nAs hard as these times have been, I am more optimistic about America today than I have been my whole life. \\n\\n\\n\\nBecause I see the future that is within our grasp. \\n\\n\\n\\nBecause I know there is simply nothing beyond our capacity. \\n\\n\\n\\nWe are the only nation on Earth that has always turned every crisis we have faced into an opportunity. \\n\\n\\n\\nThe only nation that can be defined by a single word: possibilities. \\n\\n\\n\\nSo on this night, in our 245th year as a nation, I have come to report on the State of the Union. \\n\\n\\n\\nAnd my report is this: the State of the Union is strong—because you, the American people, are strong. \\n\\n\\n\\nWe are stronger today than we were a year ago. \\n\\n\\n\\nAnd we will be stronger a year from now than we are today. \\n\\n\\n\\nNow is our moment to meet and overcome the challenges of our time. \\n\\n\\n\\nAnd we will, as one people. \\n\\n\\n\\nOne America. \\n\\n\\n\\nThe United States of America. \\n\\n\\n\\nMay God bless you all. May God protect our troops.', start_char_idx=None, end_char_idx=None, text_template='{metadata_str}\\n\\n{content}', metadata_template='{key}: {value}', metadata_seperator='\\n')]"
      ]
     },
     "execution_count": 3,
     "metadata": {},
     "output_type": "execute_result"
    }
   ],
   "source": [
    "# read data from the files - \n",
    "documents = SimpleDirectoryReader(r\"E:\\GenAI projects\\rag_assignment\\docs\").load_data()\n",
    "documents "
   ]
  },
  {
   "cell_type": "code",
   "execution_count": 4,
   "metadata": {},
   "outputs": [
    {
     "name": "stderr",
     "output_type": "stream",
     "text": [
      "e:\\GenAI projects\\rag_assignment\\llm_v\\lib\\site-packages\\tqdm\\auto.py:21: TqdmWarning: IProgress not found. Please update jupyter and ipywidgets. See https://ipywidgets.readthedocs.io/en/stable/user_install.html\n",
      "  from .autonotebook import tqdm as notebook_tqdm\n",
      "Parsing nodes: 100%|██████████| 3/3 [00:00<00:00, 103.73it/s]\n",
      "Generating embeddings: 100%|██████████| 13/13 [00:01<00:00,  7.71it/s]\n"
     ]
    }
   ],
   "source": [
    "index = VectorStoreIndex.from_documents(documents,show_progress=True)"
   ]
  },
  {
   "cell_type": "code",
   "execution_count": 5,
   "metadata": {},
   "outputs": [
    {
     "data": {
      "text/plain": [
       "<llama_index.core.indices.vector_store.base.VectorStoreIndex at 0x2a82e8abd60>"
      ]
     },
     "execution_count": 5,
     "metadata": {},
     "output_type": "execute_result"
    }
   ],
   "source": [
    "index"
   ]
  },
  {
   "cell_type": "code",
   "execution_count": 6,
   "metadata": {},
   "outputs": [],
   "source": [
    "# storing index in local machine so that we can fetch it \n",
    "index.storage_context.persist(persist_dir=r\"E:\\GenAI projects\\rag_assignment\\Indexes\\data\")"
   ]
  },
  {
   "cell_type": "code",
   "execution_count": 7,
   "metadata": {},
   "outputs": [],
   "source": [
    "# fetching the indexes - \n",
    "from llama_index.core import StorageContext,load_index_from_storage\n",
    "storage_con = StorageContext.from_defaults(persist_dir=r\"E:\\GenAI projects\\rag_assignment\\Indexes\\data\")\n",
    "index = load_index_from_storage(storage_con)"
   ]
  },
  {
   "cell_type": "code",
   "execution_count": 8,
   "metadata": {},
   "outputs": [],
   "source": [
    "query_engine = index.as_query_engine()\n",
    "response = query_engine.query(\"WHO introduced GAN and in what year?\")"
   ]
  },
  {
   "cell_type": "code",
   "execution_count": 9,
   "metadata": {},
   "outputs": [
    {
     "data": {
      "text/plain": [
       "Response(response='Ian Goodfellow and his colleagues introduced GAN in 2014.', source_nodes=[NodeWithScore(node=TextNode(id_='0dbcb534-c9ef-4404-bfa1-0dd02af2cf08', embedding=None, metadata={'file_name': 'genai.docx', 'file_path': 'E:\\\\GenAI projects\\\\rag_assignment\\\\docs\\\\genai.docx', 'file_type': 'application/vnd.openxmlformats-officedocument.wordprocessingml.document', 'file_size': 15873, 'creation_date': '2024-04-23', 'last_modified_date': '2024-05-16'}, excluded_embed_metadata_keys=['file_name', 'file_type', 'file_size', 'creation_date', 'last_modified_date', 'last_accessed_date'], excluded_llm_metadata_keys=['file_name', 'file_type', 'file_size', 'creation_date', 'last_modified_date', 'last_accessed_date'], relationships={<NodeRelationship.SOURCE: '1'>: RelatedNodeInfo(node_id='bf959335-5c30-422c-8a1c-2c860d03e01d', node_type=<ObjectType.DOCUMENT: '4'>, metadata={'file_name': 'genai.docx', 'file_path': 'E:\\\\GenAI projects\\\\rag_assignment\\\\docs\\\\genai.docx', 'file_type': 'application/vnd.openxmlformats-officedocument.wordprocessingml.document', 'file_size': 15873, 'creation_date': '2024-04-23', 'last_modified_date': '2024-05-16'}, hash='fc875930e584acbb7406cb696b4fd3e7c41a85dae5b9ee965e2244b2d354b8e0')}, text=\"Title: Exploring the Evolution of AI: From Generative Models to Large Language Models and Retrieval-Augmented Generation\\n\\n\\n\\nIn the rapidly advancing landscape of artificial intelligence (AI), several breakthroughs have reshaped our understanding of what machines can achieve. Among these advancements, three notable paradigms stand out: Generative AI, Large Language Models (LLMs), and Retrieval-Augmented Generation (RAG). Each represents a unique approach to harnessing the power of machine learning to generate text and solve complex tasks. In this article, we delve into the intricacies of these paradigms, exploring their capabilities, applications, and implications for the future of AI.\\n\\n\\n\\n**Generative AI: Fostering Creativity in Machines**\\n\\n\\n\\nGenerative AI refers to a class of algorithms designed to generate new content, such as text, images, or music, that mimics human creativity. At the heart of generative models lies the ability to learn and replicate patterns from vast datasets, enabling machines to produce novel outputs. One of the most prominent examples of generative AI is the Generative Adversarial Network (GAN), introduced by Ian Goodfellow and his colleagues in 2014.\\n\\n\\n\\nGANs consist of two neural networks: a generator and a discriminator. The generator synthesizes data instances, while the discriminator evaluates their authenticity. Through an adversarial training process, both networks strive to outperform each other, ultimately leading to the generation of realistic content indistinguishable from human-created data. Applications of generative AI span diverse domains, including art generation, text synthesis, and data augmentation, revolutionizing industries such as entertainment, design, and advertising.\\n\\n\\n\\n**Large Language Models: Unleashing the Power of Text Understanding**\\n\\n\\n\\nLarge Language Models (LLMs) represent a significant leap in natural language processing (NLP) capabilities, driven by advances in deep learning and the availability of massive datasets. These models, often based on transformer architectures, excel at understanding and generating human-like text across various tasks, including language translation, text summarization, and question answering.\\n\\n\\n\\nThe hallmark of LLMs is their ability to learn contextual representations of words and phrases, capturing intricate semantic and syntactic relationships within language. Models like OpenAI's GPT (Generative Pre-trained Transformer) series and Google's BERT (Bidirectional Encoder Representations from Transformers) have demonstrated exceptional performance on benchmark NLP tasks, showcasing the potential of large-scale pre-training followed by fine-tuning on specific tasks.\\n\\n\\n\\nLLMs have found applications in diverse fields, from content generation and chatbots to sentiment analysis and information retrieval. Their ability to understand and generate human-like text has profound implications for human-computer interaction, content generation at scale, and automated knowledge extraction.\\n\\n\\n\\n**Retrieval-Augmented Generation: Enhancing Contextual Understanding**\\n\\n\\n\\nWhile LLMs excel at generating coherent text, they often lack the ability to incorporate external knowledge or context into their outputs. Retrieval-Augmented Generation (RAG) addresses this limitation by combining the strengths of large language models with structured knowledge retrieval mechanisms.\\n\\n\\n\\nIn RAG, a retriever module retrieves relevant information from external knowledge sources, such as databases, documents, or the web, based on the input context. This retrieved knowledge is then integrated into the generation process, enriching the output with factual accuracy and contextual relevance. By augmenting the generation process with external knowledge, RAG models can produce more informative and contextually grounded text across a wide range of tasks.\\n\\n\\n\\nApplications of RAG span from question answering and content generation to dialogue systems and personalized recommendations. By leveraging external knowledge, RAG models enhance their understanding of complex topics and provide more nuanced and accurate responses to user queries.\\n\\n\\n\\n**The Future of AI: Synergies and Ethical Considerations**\\n\\n\\n\\nAs generative AI, LLMs, and RAG continue to advance, their convergence holds promise for even more powerful AI systems capable of understanding, generating, and reasoning with human-like proficiency. By integrating generative capabilities with contextual understanding and external knowledge retrieval, future AI systems could revolutionize industries, drive innovation, and augment human creativity.\\n\\n\\n\\nHowever, with great power comes great responsibility. Ethical considerations surrounding AI, including issues of bias, privacy, and misuse, must be addressed proactively. As AI systems become increasingly autonomous and influential, ensuring transparency, accountability, and ethical use is paramount to harnessing their potential for societal benefit.\\n\\n\\n\\nIn conclusion, the evolution of AI from generative models to large language models and retrieval-augmented generation represents a transformative journey towards machines with human-like language understanding and generation capabilities. By advancing these paradigms responsibly and ethically, we pave the way for a future where AI serves as a powerful ally in solving complex challenges and enhancing human endeavors.\", start_char_idx=0, end_char_idx=5390, text_template='{metadata_str}\\n\\n{content}', metadata_template='{key}: {value}', metadata_seperator='\\n'), score=0.7717118917528462), NodeWithScore(node=TextNode(id_='36110dea-0cc0-452a-ae17-36f29c993082', embedding=None, metadata={'file_name': 'state_of_the_union.docx', 'file_path': 'E:\\\\GenAI projects\\\\rag_assignment\\\\docs\\\\state_of_the_union.docx', 'file_type': 'application/vnd.openxmlformats-officedocument.wordprocessingml.document', 'file_size': 37706, 'creation_date': '2024-04-23', 'last_modified_date': '2024-05-16'}, excluded_embed_metadata_keys=['file_name', 'file_type', 'file_size', 'creation_date', 'last_modified_date', 'last_accessed_date'], excluded_llm_metadata_keys=['file_name', 'file_type', 'file_size', 'creation_date', 'last_modified_date', 'last_accessed_date'], relationships={<NodeRelationship.SOURCE: '1'>: RelatedNodeInfo(node_id='9cdba3fb-7980-4160-b2c4-8cdd954f6525', node_type=<ObjectType.DOCUMENT: '4'>, metadata={'file_name': 'state_of_the_union.docx', 'file_path': 'E:\\\\GenAI projects\\\\rag_assignment\\\\docs\\\\state_of_the_union.docx', 'file_type': 'application/vnd.openxmlformats-officedocument.wordprocessingml.document', 'file_size': 37706, 'creation_date': '2024-04-23', 'last_modified_date': '2024-05-16'}, hash='df5ea4f618800f60be72c447d2115ec1c74753d9e3db524abc861e82c8f1eb80'), <NodeRelationship.PREVIOUS: '2'>: RelatedNodeInfo(node_id='25b2205c-f6c0-4106-a190-170906025354', node_type=<ObjectType.TEXT: '1'>, metadata={'file_name': 'state_of_the_union.docx', 'file_path': 'E:\\\\GenAI projects\\\\rag_assignment\\\\docs\\\\state_of_the_union.docx', 'file_type': 'application/vnd.openxmlformats-officedocument.wordprocessingml.document', 'file_size': 37706, 'creation_date': '2024-04-23', 'last_modified_date': '2024-05-16'}, hash='854d35dcc167066c94376eaff247523ecf75c6a5cd3105e6a6458d6280b8bd23'), <NodeRelationship.NEXT: '3'>: RelatedNodeInfo(node_id='7e4ea36a-8d72-4f3c-84d4-70d9868b71a0', node_type=<ObjectType.TEXT: '1'>, metadata={}, hash='b97983d7139ea307be265c564551196c3e0196530d60b50fed749dca25c27804')}, text='We achieved this because we provided free vaccines, treatments, tests, and masks. \\n\\n\\n\\nOf course, continuing this costs money. \\n\\n\\n\\nI will soon send Congress a request. \\n\\n\\n\\nThe vast majority of Americans have used these tools and may want to again, so I expect Congress to pass it quickly.   \\n\\n\\n\\nFourth, we will continue vaccinating the world.     \\n\\n\\n\\nWe’ve sent 475 Million vaccine doses to 112 countries, more than any other nation. \\n\\n\\n\\nAnd we won’t stop. \\n\\n\\n\\nWe have lost so much to COVID-19. Time with one another. And worst of all, so much loss of life. \\n\\n\\n\\nLet’s use this moment to reset. Let’s stop looking at COVID-19 as a partisan dividing line and see it for what it is: A God-awful disease.  \\n\\n\\n\\nLet’s stop seeing each other as enemies, and start seeing each other for who we really are: Fellow Americans.  \\n\\n\\n\\nWe can’t change how divided we’ve been. But we can change how we move forward—on COVID-19 and other issues we must face together. \\n\\n\\n\\nI recently visited the New York City Police Department days after the funerals of Officer Wilbert Mora and his partner, Officer Jason Rivera. \\n\\n\\n\\nThey were responding to a 9-1-1 call when a man shot and killed them with a stolen gun. \\n\\n\\n\\nOfficer Mora was 27 years old. \\n\\n\\n\\nOfficer Rivera was 22. \\n\\n\\n\\nBoth Dominican Americans who’d grown up on the same streets they later chose to patrol as police officers. \\n\\n\\n\\nI spoke with their families and told them that we are forever in debt for their sacrifice, and we will carry on their mission to restore the trust and safety every community deserves. \\n\\n\\n\\nI’ve worked on these issues a long time. \\n\\n\\n\\nI know what works: Investing in crime preventionand community police officers who’ll walk the beat, who’ll know the neighborhood, and who can restore trust and safety. \\n\\n\\n\\nSo let’s not abandon our streets. Or choose between safety and equal justice. \\n\\n\\n\\nLet’s come together to protect our communities, restore trust, and hold law enforcement accountable. \\n\\n\\n\\nThat’s why the Justice Department required body cameras, banned chokeholds, and restricted no-knock warrants for its officers. \\n\\n\\n\\nThat’s why the American Rescue Plan provided $350 Billion that cities, states, and counties can use to hire more police and invest in proven strategies like community violence interruption—trusted messengers breaking the cycle of violence and trauma and giving young people hope.  \\n\\n\\n\\nWe should all agree: The answer is not to Defund the police. The answer is to FUND the police with the resources and training they need to protect our communities. \\n\\n\\n\\nI ask Democrats and Republicans alike: Pass my budget and keep our neighborhoods safe.  \\n\\n\\n\\nAnd I will keep doing everything in my power to crack down on gun trafficking and ghost guns you can buy online and make at home—they have no serial numbers and can’t be traced. \\n\\n\\n\\nAnd I ask Congress to pass proven measures to reduce gun violence. Pass universal background checks. Why should anyone on a terrorist list be able to purchase a weapon? \\n\\n\\n\\nBan assault weapons and high-capacity magazines. \\n\\n\\n\\nRepeal the liability shield that makes gun manufacturers the only industry in America that can’t be sued. \\n\\n\\n\\nThese laws don’t infringe on the Second Amendment. They save lives. \\n\\n\\n\\nThe most fundamental right in America is the right to vote – and to have it counted. And it’s under assault. \\n\\n\\n\\nIn state after state, new laws have been passed, not only to suppress the vote, but to subvert entire elections. \\n\\n\\n\\nWe cannot let this happen. \\n\\n\\n\\nTonight. I call on the Senate to: Pass the Freedom to Vote Act. Pass the John Lewis Voting Rights Act. And while you’re at it, pass the Disclose Act so Americans can know who is funding our elections. \\n\\n\\n\\nTonight, I’d like to honor someone who has dedicated his life to serve this country: Justice Stephen Breyer—an Army veteran, Constitutional scholar, and retiring Justice of the United States Supreme Court. Justice Breyer, thank you for your service. \\n\\n\\n\\nOne of the most serious constitutional responsibilities a President has is nominating someone to serve on the United States Supreme Court. \\n\\n\\n\\nAnd I did that 4 days ago, when I nominated Circuit Court of Appeals Judge Ketanji Brown Jackson. One of our nation’s top legal minds, who will continue Justice Breyer’s legacy of excellence. \\n\\n\\n\\nA former top litigator in private practice. A former federal public defender. And from a family of public school educators and police officers. A consensus builder. Since she’s been nominated, she’s received a broad range of support—from the Fraternal Order of Police to former judges appointed by Democrats and Republicans.', start_char_idx=25933, end_char_idx=30539, text_template='{metadata_str}\\n\\n{content}', metadata_template='{key}: {value}', metadata_seperator='\\n'), score=0.7314735483214263)], metadata={'0dbcb534-c9ef-4404-bfa1-0dd02af2cf08': {'file_name': 'genai.docx', 'file_path': 'E:\\\\GenAI projects\\\\rag_assignment\\\\docs\\\\genai.docx', 'file_type': 'application/vnd.openxmlformats-officedocument.wordprocessingml.document', 'file_size': 15873, 'creation_date': '2024-04-23', 'last_modified_date': '2024-05-16'}, '36110dea-0cc0-452a-ae17-36f29c993082': {'file_name': 'state_of_the_union.docx', 'file_path': 'E:\\\\GenAI projects\\\\rag_assignment\\\\docs\\\\state_of_the_union.docx', 'file_type': 'application/vnd.openxmlformats-officedocument.wordprocessingml.document', 'file_size': 37706, 'creation_date': '2024-04-23', 'last_modified_date': '2024-05-16'}})"
      ]
     },
     "execution_count": 9,
     "metadata": {},
     "output_type": "execute_result"
    }
   ],
   "source": [
    "response"
   ]
  },
  {
   "cell_type": "code",
   "execution_count": 10,
   "metadata": {},
   "outputs": [
    {
     "data": {
      "text/plain": [
       "'Ian Goodfellow and his colleagues introduced GAN in 2014.'"
      ]
     },
     "execution_count": 10,
     "metadata": {},
     "output_type": "execute_result"
    }
   ],
   "source": [
    "response.response"
   ]
  },
  {
   "cell_type": "code",
   "execution_count": 11,
   "metadata": {},
   "outputs": [
    {
     "name": "stdout",
     "output_type": "stream",
     "text": [
      "Final Response: Ian Goodfellow and his colleagues introduced GAN in\n",
      "2014.\n",
      "______________________________________________________________________\n",
      "Source Node 1/2\n",
      "Node ID: 0dbcb534-c9ef-4404-bfa1-0dd02af2cf08\n",
      "Similarity: 0.7717118917528462\n",
      "Text: Title: Exploring the Evolution of AI: From Generative Models to\n",
      "Large Language Models and Retrieval-Augmented Generation    In the\n",
      "rapidly advancing landscape of artificial intelligence (AI), several\n",
      "breakthroughs have reshaped our understanding of what machines can\n",
      "achieve. Among these advancements, three notable paradigms stand out:\n",
      "Generative...\n",
      "______________________________________________________________________\n",
      "Source Node 2/2\n",
      "Node ID: 36110dea-0cc0-452a-ae17-36f29c993082\n",
      "Similarity: 0.7314735483214263\n",
      "Text: We achieved this because we provided free vaccines, treatments,\n",
      "tests, and masks.     Of course, continuing this costs money.     I\n",
      "will soon send Congress a request.     The vast majority of Americans\n",
      "have used these tools and may want to again, so I expect Congress to\n",
      "pass it quickly.       Fourth, we will continue vaccinating the world.\n",
      "...\n"
     ]
    }
   ],
   "source": [
    "from llama_index.core.response.pprint_utils import pprint_response\n",
    "pprint_response(response,show_source=True)"
   ]
  },
  {
   "cell_type": "code",
   "execution_count": null,
   "metadata": {},
   "outputs": [],
   "source": []
  },
  {
   "cell_type": "code",
   "execution_count": 12,
   "metadata": {},
   "outputs": [],
   "source": [
    "# LLM tunning - Initialize an OpenAI language model (llm) with specific configurations\n",
    "from llama_index.llms.openai import OpenAI\n",
    "llm = OpenAI(temperature=0,model=\"gpt-3.5-turbo\",max_tokens=500)"
   ]
  },
  {
   "cell_type": "code",
   "execution_count": 13,
   "metadata": {},
   "outputs": [],
   "source": [
    "res = llm.complete(\"What is the future of AI?\")"
   ]
  },
  {
   "cell_type": "code",
   "execution_count": 14,
   "metadata": {},
   "outputs": [
    {
     "data": {
      "text/plain": [
       "'The future of AI is likely to involve continued advancements in technology and applications across various industries. Some potential developments include:\\n\\n1. Increased automation: AI is expected to play a larger role in automating tasks and processes in various industries, leading to increased efficiency and productivity.\\n\\n2. Improved personalization: AI algorithms will continue to improve in their ability to analyze data and provide personalized recommendations and experiences for users.\\n\\n3. Enhanced decision-making: AI systems will become more sophisticated in their ability to analyze complex data sets and make informed decisions in real-time.\\n\\n4. Ethical considerations: As AI becomes more prevalent, there will be a greater focus on ethical considerations such as bias, privacy, and transparency in AI systems.\\n\\n5. Collaboration with humans: AI systems will increasingly work alongside humans in a collaborative manner, augmenting human capabilities rather than replacing them.\\n\\nOverall, the future of AI holds great potential for transforming industries and improving various aspects of our lives, but it also raises important ethical and societal considerations that will need to be addressed.'"
      ]
     },
     "execution_count": 14,
     "metadata": {},
     "output_type": "execute_result"
    }
   ],
   "source": [
    "res.text"
   ]
  },
  {
   "cell_type": "code",
   "execution_count": null,
   "metadata": {},
   "outputs": [],
   "source": []
  },
  {
   "cell_type": "code",
   "execution_count": 15,
   "metadata": {},
   "outputs": [],
   "source": [
    "from llama_index.core.retrievers import VectorIndexRetriever\n",
    "from llama_index.core.query_engine import RetrieverQueryEngine\n",
    "from llama_index.core.indices.postprocessor import SimilarityPostprocessor"
   ]
  },
  {
   "cell_type": "code",
   "execution_count": 16,
   "metadata": {},
   "outputs": [],
   "source": [
    "retriever=VectorIndexRetriever(index=index,similarity_top_k=2)\n",
    "postprocessor=SimilarityPostprocessor(similarity_cutoff=0.75)\n",
    "\n",
    "query_engine=RetrieverQueryEngine(retriever=retriever,\n",
    "                                  node_postprocessors=[postprocessor])"
   ]
  },
  {
   "cell_type": "code",
   "execution_count": 17,
   "metadata": {},
   "outputs": [],
   "source": [
    "query_engine = index.as_query_engine()\n",
    "response = query_engine.query(\"why the NATO Alliance was created ?\")"
   ]
  },
  {
   "cell_type": "code",
   "execution_count": 18,
   "metadata": {},
   "outputs": [
    {
     "name": "stdout",
     "output_type": "stream",
     "text": [
      "The NATO Alliance was created to secure peace and stability in Europe after World War 2.\n"
     ]
    }
   ],
   "source": [
    "print(response)"
   ]
  },
  {
   "cell_type": "code",
   "execution_count": 19,
   "metadata": {},
   "outputs": [
    {
     "name": "stdout",
     "output_type": "stream",
     "text": [
      "Final Response: The NATO Alliance was created to secure peace and\n",
      "stability in Europe after World War 2.\n",
      "______________________________________________________________________\n",
      "Source Node 1/2\n",
      "Node ID: 57d4d7e6-be6c-49ab-9ff8-350e78116a91\n",
      "Similarity: 0.7956630191737325\n",
      "Text: Madam Speaker, Madam Vice President, our First Lady and Second\n",
      "Gentleman. Members of Congress and the Cabinet. Justices of the\n",
      "Supreme Court. My fellow Americans.      Last year COVID-19 kept us\n",
      "apart. This year we are finally together again.     Tonight, we meet\n",
      "as Democrats Republicans and Independents. But most importantly as\n",
      "Americans.     W...\n",
      "______________________________________________________________________\n",
      "Source Node 2/2\n",
      "Node ID: 3a7ca3a5-c97a-4070-85ff-feca5cc2b622\n",
      "Similarity: 0.7837994118305326\n",
      "Text: And tonight I am announcing that we will join our allies in\n",
      "closing off American air space to all Russian flights – further\n",
      "isolating Russia – and adding an additional squeeze –on their economy.\n",
      "The Ruble has lost 30% of its value.     The Russian stock market has\n",
      "lost 40% of its value and trading remains suspended. Russia’s economy\n",
      "is reeling a...\n"
     ]
    }
   ],
   "source": [
    "pprint_response(response,show_source=True)"
   ]
  },
  {
   "cell_type": "code",
   "execution_count": null,
   "metadata": {},
   "outputs": [],
   "source": []
  },
  {
   "cell_type": "code",
   "execution_count": null,
   "metadata": {},
   "outputs": [],
   "source": [
    "#test - "
   ]
  },
  {
   "cell_type": "code",
   "execution_count": 20,
   "metadata": {},
   "outputs": [
    {
     "name": "stdout",
     "output_type": "stream",
     "text": [
      "Ukraine\n"
     ]
    }
   ],
   "source": [
    "import os.path\n",
    "from llama_index.core import (\n",
    "    VectorStoreIndex,\n",
    "    SimpleDirectoryReader,\n",
    "    StorageContext,\n",
    "    load_index_from_storage\n",
    ")\n",
    "\n",
    "# check if storage already exists\n",
    "PERSIST_DIR = r\"E:\\GenAI projects\\rag_assignment\\Indexes\\data\"\n",
    "if not os.path.exists(PERSIST_DIR):\n",
    "    # load the documents and create the index\n",
    "    documents = SimpleDirectoryReader(\"data\").load_data()\n",
    "    index = VectorStoreIndex.from_documents(documents)\n",
    "    # store it for later\n",
    "    index.storage_context.persist(persist_dir=PERSIST_DIR)\n",
    "else:\n",
    "    # load the existing index\n",
    "    storage_context = StorageContext.from_defaults(persist_dir=PERSIST_DIR)\n",
    "    index = load_index_from_storage(storage_context)\n",
    "\n",
    "# either way we can now query the index\n",
    "query_engine = index.as_query_engine()\n",
    "response = query_engine.query(\"Russia is fighting war with which country?\")\n",
    "print(response)"
   ]
  },
  {
   "cell_type": "code",
   "execution_count": null,
   "metadata": {},
   "outputs": [],
   "source": [
    "# test code - "
   ]
  },
  {
   "cell_type": "code",
   "execution_count": 21,
   "metadata": {},
   "outputs": [],
   "source": [
    "import os\n",
    "import openai\n",
    "from llama_index.core import (\n",
    "    VectorStoreIndex,\n",
    "    SimpleDirectoryReader,\n",
    "    StorageContext,\n",
    "    load_index_from_storage\n",
    ")\n",
    "\n",
    "from llama_index.core.retrievers import VectorIndexRetriever\n",
    "from llama_index.core.query_engine import RetrieverQueryEngine\n",
    "from llama_index.core.indices.postprocessor import SimilarityPostprocessor\n",
    "\n",
    "\n",
    "# Set OpenAI API key\n",
    "openai_api_key = \"sk-11223344\"\n",
    "os.environ[\"OPENAI_API_KEY\"] = openai_api_key\n",
    "openai.api_key = os.getenv(\"OPENAI_API_KEY\")\n",
    "\n",
    "\n",
    "# Define the directory for persistent storage\n",
    "PERSIST_DIR = r\"E:\\GenAI projects\\rag_assignment\\Indexes\\data\"\n",
    "\n",
    "# Check if storage already exists\n",
    "if not os.path.exists(PERSIST_DIR):\n",
    "    # Load the documents and create the index\n",
    "    documents = SimpleDirectoryReader(r\"E:\\GenAI projects\\rag_assignment\\Indexes\\data\").load_data()\n",
    "    index = VectorStoreIndex.from_documents(documents, show_progress=True)\n",
    "    # Store it for later\n",
    "    index.storage_context.persist(persist_dir=PERSIST_DIR)\n",
    "else:\n",
    "    # Load the existing index\n",
    "    storage_context = StorageContext.from_defaults(persist_dir=PERSIST_DIR)\n",
    "    index = load_index_from_storage(storage_context)\n",
    "\n",
    "# Initialize the retriever and postprocessor\n",
    "retriever = VectorIndexRetriever(index=index, similarity_top_k=4)\n",
    "postprocessor = SimilarityPostprocessor(similarity_cutoff=0.80)\n",
    "\n",
    "# Create the query engine\n",
    "query_engine = RetrieverQueryEngine(retriever=retriever, node_postprocessors=[postprocessor])\n",
    "\n",
    "# Function to query the engine\n",
    "def query_engine_function(query):\n",
    "    response = query_engine.query(query)\n",
    "    return response"
   ]
  },
  {
   "cell_type": "code",
   "execution_count": null,
   "metadata": {},
   "outputs": [],
   "source": []
  },
  {
   "cell_type": "code",
   "execution_count": null,
   "metadata": {},
   "outputs": [],
   "source": []
  },
  {
   "cell_type": "code",
   "execution_count": null,
   "metadata": {},
   "outputs": [],
   "source": []
  },
  {
   "cell_type": "code",
   "execution_count": null,
   "metadata": {},
   "outputs": [],
   "source": []
  },
  {
   "cell_type": "code",
   "execution_count": null,
   "metadata": {},
   "outputs": [],
   "source": []
  },
  {
   "cell_type": "code",
   "execution_count": null,
   "metadata": {},
   "outputs": [],
   "source": []
  },
  {
   "cell_type": "code",
   "execution_count": null,
   "metadata": {},
   "outputs": [],
   "source": []
  }
 ],
 "metadata": {
  "kernelspec": {
   "display_name": "llm_venv",
   "language": "python",
   "name": "python3"
  },
  "language_info": {
   "codemirror_mode": {
    "name": "ipython",
    "version": 3
   },
   "file_extension": ".py",
   "mimetype": "text/x-python",
   "name": "python",
   "nbconvert_exporter": "python",
   "pygments_lexer": "ipython3",
   "version": "3.10.4"
  }
 },
 "nbformat": 4,
 "nbformat_minor": 2
}
